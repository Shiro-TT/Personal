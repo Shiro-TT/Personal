{
 "cells": [
  {
   "cell_type": "markdown",
   "metadata": {},
   "source": [
    "#### Import"
   ]
  },
  {
   "cell_type": "code",
   "execution_count": 1,
   "metadata": {},
   "outputs": [],
   "source": [
    "import pandas as pd"
   ]
  },
  {
   "cell_type": "markdown",
   "metadata": {},
   "source": [
    "#### Đọc dữ liệu"
   ]
  },
  {
   "cell_type": "code",
   "execution_count": 13,
   "metadata": {},
   "outputs": [
    {
     "data": {
      "text/html": [
       "<div>\n",
       "<style scoped>\n",
       "    .dataframe tbody tr th:only-of-type {\n",
       "        vertical-align: middle;\n",
       "    }\n",
       "\n",
       "    .dataframe tbody tr th {\n",
       "        vertical-align: top;\n",
       "    }\n",
       "\n",
       "    .dataframe thead th {\n",
       "        text-align: right;\n",
       "    }\n",
       "</style>\n",
       "<table border=\"1\" class=\"dataframe\">\n",
       "  <thead>\n",
       "    <tr style=\"text-align: right;\">\n",
       "      <th></th>\n",
       "      <th>Nam</th>\n",
       "      <th>Mon</th>\n",
       "      <th>TinChi</th>\n",
       "      <th>Lop</th>\n",
       "      <th>Diem</th>\n",
       "    </tr>\n",
       "  </thead>\n",
       "  <tbody>\n",
       "    <tr>\n",
       "      <th>0</th>\n",
       "      <td>17-18/1</td>\n",
       "      <td>BAA00011 - Anh văn 1</td>\n",
       "      <td>3</td>\n",
       "      <td>BLM</td>\n",
       "      <td>8.5</td>\n",
       "    </tr>\n",
       "    <tr>\n",
       "      <th>1</th>\n",
       "      <td>17-18/1</td>\n",
       "      <td>BAA00012 - Anh văn 2</td>\n",
       "      <td>3</td>\n",
       "      <td>17AV2_8</td>\n",
       "      <td>7.5</td>\n",
       "    </tr>\n",
       "    <tr>\n",
       "      <th>2</th>\n",
       "      <td>17-18/1</td>\n",
       "      <td>BAA00030 - Giáo dục quốc phòng</td>\n",
       "      <td>4</td>\n",
       "      <td>1</td>\n",
       "      <td>6.0</td>\n",
       "    </tr>\n",
       "  </tbody>\n",
       "</table>\n",
       "</div>"
      ],
      "text/plain": [
       "       Nam                             Mon  TinChi      Lop  Diem\n",
       "0  17-18/1            BAA00011 - Anh văn 1       3      BLM   8.5\n",
       "1  17-18/1            BAA00012 - Anh văn 2       3  17AV2_8   7.5\n",
       "2  17-18/1  BAA00030 - Giáo dục quốc phòng       4        1   6.0"
      ]
     },
     "execution_count": 13,
     "metadata": {},
     "output_type": "execute_result"
    }
   ],
   "source": [
    "df = pd.read_csv('diem.csv') #, encoding = 'utf8')\n",
    "df.head(3)"
   ]
  },
  {
   "cell_type": "markdown",
   "metadata": {},
   "source": [
    "---\n",
    "#### Tien xu ly"
   ]
  },
  {
   "cell_type": "code",
   "execution_count": 3,
   "metadata": {},
   "outputs": [],
   "source": [
    "df['MaMon'] = df.Mon\n",
    "df.MaMon = df.MaMon.apply(lambda x: x.split(\"- \")[0])\n",
    "df['TenMon'] = df.Mon\n",
    "df.TenMon = df.TenMon.apply(lambda x: x.split(\"- \")[1])\n",
    "df = df.drop(columns = ['Mon'])"
   ]
  },
  {
   "cell_type": "markdown",
   "metadata": {},
   "source": [
    "---\n",
    "#### Loại bỏ các môn không tích lũy"
   ]
  },
  {
   "cell_type": "code",
   "execution_count": 4,
   "metadata": {},
   "outputs": [],
   "source": [
    "ListCacMonKhongCanThiet = [\"Anh văn 1\", \"Anh văn 2\", \"Anh văn 3\", \"Anh văn 4\", \"Giáo dục quốc phòng\", \n",
    "                           \"Thể dục 1\", \"Thể dục 2\"]\n",
    "df = df.drop(df[df.TenMon.isin(ListCacMonKhongCanThiet)].index.tolist())"
   ]
  },
  {
   "cell_type": "markdown",
   "metadata": {},
   "source": [
    "#### Loại bỏ các môn rớt"
   ]
  },
  {
   "cell_type": "code",
   "execution_count": 5,
   "metadata": {},
   "outputs": [],
   "source": [
    "df = df[df.Diem >= 5]"
   ]
  },
  {
   "cell_type": "code",
   "execution_count": 6,
   "metadata": {},
   "outputs": [],
   "source": [
    "df = df.reset_index(drop=True)\n",
    "#df = df.drop(columns = ['index'])"
   ]
  },
  {
   "cell_type": "markdown",
   "metadata": {},
   "source": [
    "---\n",
    "#### Tính điểm trung bình"
   ]
  },
  {
   "cell_type": "code",
   "execution_count": 7,
   "metadata": {},
   "outputs": [],
   "source": [
    "def TinhDiemTrungBinh(df):\n",
    "    tongtinchi = df.TinChi.sum()\n",
    "    tong = 0\n",
    "    for i in range(len(df)):\n",
    "        tong += df.iloc[i].TinChi* df.iloc[i].Diem\n",
    "    dtb = tong / tongtinchi\n",
    "    return dtb, tongtinchi"
   ]
  },
  {
   "cell_type": "code",
   "execution_count": 8,
   "metadata": {},
   "outputs": [],
   "source": [
    "dtb, tongtinchi = TinhDiemTrungBinh(df)"
   ]
  },
  {
   "cell_type": "markdown",
   "metadata": {},
   "source": [
    "#### Kết quả"
   ]
  },
  {
   "cell_type": "code",
   "execution_count": 9,
   "metadata": {},
   "outputs": [
    {
     "name": "stdout",
     "output_type": "stream",
     "text": [
      "Tổng số tính chỉ tích lũy 137\n",
      "Điểm trung bình tích lũy 7.021897810218978\n"
     ]
    }
   ],
   "source": [
    "print(\"Tổng số tính chỉ tích lũy {}\".format(tongtinchi))\n",
    "print(\"Điểm trung bình tích lũy {}\".format(dtb))"
   ]
  },
  {
   "cell_type": "markdown",
   "metadata": {},
   "source": [
    "---\n",
    "#### Môn chuyên ngành"
   ]
  },
  {
   "cell_type": "code",
   "execution_count": 10,
   "metadata": {},
   "outputs": [
    {
     "data": {
      "text/html": [
       "<div>\n",
       "<style scoped>\n",
       "    .dataframe tbody tr th:only-of-type {\n",
       "        vertical-align: middle;\n",
       "    }\n",
       "\n",
       "    .dataframe tbody tr th {\n",
       "        vertical-align: top;\n",
       "    }\n",
       "\n",
       "    .dataframe thead th {\n",
       "        text-align: right;\n",
       "    }\n",
       "</style>\n",
       "<table border=\"1\" class=\"dataframe\">\n",
       "  <thead>\n",
       "    <tr style=\"text-align: right;\">\n",
       "      <th></th>\n",
       "      <th>Nam</th>\n",
       "      <th>TinChi</th>\n",
       "      <th>Lop</th>\n",
       "      <th>Diem</th>\n",
       "      <th>MaMon</th>\n",
       "      <th>TenMon</th>\n",
       "    </tr>\n",
       "  </thead>\n",
       "  <tbody>\n",
       "    <tr>\n",
       "      <th>0</th>\n",
       "      <td>17-18/1</td>\n",
       "      <td>3</td>\n",
       "      <td>17CTT6</td>\n",
       "      <td>8.5</td>\n",
       "      <td>CSC00001</td>\n",
       "      <td>Nhập môn Công nghệ Thông tin 1</td>\n",
       "    </tr>\n",
       "    <tr>\n",
       "      <th>1</th>\n",
       "      <td>17-18/1</td>\n",
       "      <td>4</td>\n",
       "      <td>17CTT6</td>\n",
       "      <td>5.5</td>\n",
       "      <td>CSC10001</td>\n",
       "      <td>Nhập môn lập trình</td>\n",
       "    </tr>\n",
       "    <tr>\n",
       "      <th>2</th>\n",
       "      <td>17-18/2</td>\n",
       "      <td>4</td>\n",
       "      <td>17CTT6</td>\n",
       "      <td>7.0</td>\n",
       "      <td>CSC10002</td>\n",
       "      <td>Kỹ thuật lập trình</td>\n",
       "    </tr>\n",
       "    <tr>\n",
       "      <th>3</th>\n",
       "      <td>17-18/2</td>\n",
       "      <td>3</td>\n",
       "      <td>17CTT6</td>\n",
       "      <td>10.0</td>\n",
       "      <td>CSC00002</td>\n",
       "      <td>Nhập môn CNTT 2</td>\n",
       "    </tr>\n",
       "    <tr>\n",
       "      <th>4</th>\n",
       "      <td>18-19/1</td>\n",
       "      <td>4</td>\n",
       "      <td>17CTT6</td>\n",
       "      <td>7.5</td>\n",
       "      <td>CSC10004</td>\n",
       "      <td>Cấu trúc dữ liệu và giải thuật</td>\n",
       "    </tr>\n",
       "    <tr>\n",
       "      <th>5</th>\n",
       "      <td>18-19/1</td>\n",
       "      <td>4</td>\n",
       "      <td>17CTT6</td>\n",
       "      <td>8.0</td>\n",
       "      <td>CSC10003</td>\n",
       "      <td>Phương pháp lập trình hướng đối tượng</td>\n",
       "    </tr>\n",
       "    <tr>\n",
       "      <th>6</th>\n",
       "      <td>18-19/2</td>\n",
       "      <td>4</td>\n",
       "      <td>17_5</td>\n",
       "      <td>7.0</td>\n",
       "      <td>CSC10006</td>\n",
       "      <td>Cơ sở dữ liệu</td>\n",
       "    </tr>\n",
       "    <tr>\n",
       "      <th>7</th>\n",
       "      <td>18-19/2</td>\n",
       "      <td>4</td>\n",
       "      <td>17_5</td>\n",
       "      <td>6.5</td>\n",
       "      <td>CSC10005</td>\n",
       "      <td>Kiến trúc máy tính và hợp ngữ</td>\n",
       "    </tr>\n",
       "    <tr>\n",
       "      <th>8</th>\n",
       "      <td>18-19/2</td>\n",
       "      <td>4</td>\n",
       "      <td>17_6</td>\n",
       "      <td>6.5</td>\n",
       "      <td>CSC10008</td>\n",
       "      <td>Mạng máy tính</td>\n",
       "    </tr>\n",
       "    <tr>\n",
       "      <th>9</th>\n",
       "      <td>19-20/1</td>\n",
       "      <td>4</td>\n",
       "      <td>17_21</td>\n",
       "      <td>5.0</td>\n",
       "      <td>CSC14003</td>\n",
       "      <td>Cơ sở trí tuệ nhân tạo</td>\n",
       "    </tr>\n",
       "    <tr>\n",
       "      <th>10</th>\n",
       "      <td>19-20/1</td>\n",
       "      <td>4</td>\n",
       "      <td>17_33</td>\n",
       "      <td>8.0</td>\n",
       "      <td>CSC10007</td>\n",
       "      <td>Hệ điều hành</td>\n",
       "    </tr>\n",
       "    <tr>\n",
       "      <th>11</th>\n",
       "      <td>19-20/1</td>\n",
       "      <td>4</td>\n",
       "      <td>17_21</td>\n",
       "      <td>5.0</td>\n",
       "      <td>CSC14007</td>\n",
       "      <td>Nhập môn phân tích độ phức tạp thuật toán</td>\n",
       "    </tr>\n",
       "    <tr>\n",
       "      <th>12</th>\n",
       "      <td>19-20/1</td>\n",
       "      <td>4</td>\n",
       "      <td>17_21</td>\n",
       "      <td>7.0</td>\n",
       "      <td>CSC16005</td>\n",
       "      <td>Xử lý ảnh số và video số</td>\n",
       "    </tr>\n",
       "    <tr>\n",
       "      <th>13</th>\n",
       "      <td>19-20/2</td>\n",
       "      <td>4</td>\n",
       "      <td>17_21</td>\n",
       "      <td>8.0</td>\n",
       "      <td>CSC17104</td>\n",
       "      <td>Lập trình cho khoa học dữ liệu</td>\n",
       "    </tr>\n",
       "    <tr>\n",
       "      <th>14</th>\n",
       "      <td>19-20/2</td>\n",
       "      <td>4</td>\n",
       "      <td>17_21</td>\n",
       "      <td>8.5</td>\n",
       "      <td>CSC14006</td>\n",
       "      <td>Nhận dạng</td>\n",
       "    </tr>\n",
       "    <tr>\n",
       "      <th>15</th>\n",
       "      <td>19-20/2</td>\n",
       "      <td>4</td>\n",
       "      <td>17_22</td>\n",
       "      <td>7.5</td>\n",
       "      <td>CSC13002</td>\n",
       "      <td>Nhập môn công nghệ phần mềm</td>\n",
       "    </tr>\n",
       "    <tr>\n",
       "      <th>16</th>\n",
       "      <td>19-20/2</td>\n",
       "      <td>4</td>\n",
       "      <td>17_21</td>\n",
       "      <td>5.5</td>\n",
       "      <td>CSC14005</td>\n",
       "      <td>Nhập môn học máy</td>\n",
       "    </tr>\n",
       "    <tr>\n",
       "      <th>17</th>\n",
       "      <td>20-21/1</td>\n",
       "      <td>4</td>\n",
       "      <td>17_21</td>\n",
       "      <td>9.0</td>\n",
       "      <td>CSC14115</td>\n",
       "      <td>Khoa học dữ liệu ứng dụng</td>\n",
       "    </tr>\n",
       "    <tr>\n",
       "      <th>18</th>\n",
       "      <td>20-21/1</td>\n",
       "      <td>4</td>\n",
       "      <td>17_21</td>\n",
       "      <td>5.0</td>\n",
       "      <td>CSC14120</td>\n",
       "      <td>Lập trình song song</td>\n",
       "    </tr>\n",
       "    <tr>\n",
       "      <th>19</th>\n",
       "      <td>20-21/1</td>\n",
       "      <td>4</td>\n",
       "      <td>17_21</td>\n",
       "      <td>8.0</td>\n",
       "      <td>CSC14109</td>\n",
       "      <td>Logic mờ và ứng dụng</td>\n",
       "    </tr>\n",
       "    <tr>\n",
       "      <th>20</th>\n",
       "      <td>20-21/1</td>\n",
       "      <td>4</td>\n",
       "      <td>17_21</td>\n",
       "      <td>8.5</td>\n",
       "      <td>CSC14118</td>\n",
       "      <td>Nhập môn dữ liệu lớn</td>\n",
       "    </tr>\n",
       "    <tr>\n",
       "      <th>21</th>\n",
       "      <td>20-21/1</td>\n",
       "      <td>4</td>\n",
       "      <td>17_22</td>\n",
       "      <td>8.0</td>\n",
       "      <td>CSC16002</td>\n",
       "      <td>Phương pháp toán trong phân tích dữ liệu thị giác</td>\n",
       "    </tr>\n",
       "  </tbody>\n",
       "</table>\n",
       "</div>"
      ],
      "text/plain": [
       "        Nam  TinChi     Lop  Diem      MaMon  \\\n",
       "0   17-18/1       3  17CTT6   8.5  CSC00001    \n",
       "1   17-18/1       4  17CTT6   5.5  CSC10001    \n",
       "2   17-18/2       4  17CTT6   7.0  CSC10002    \n",
       "3   17-18/2       3  17CTT6  10.0  CSC00002    \n",
       "4   18-19/1       4  17CTT6   7.5  CSC10004    \n",
       "5   18-19/1       4  17CTT6   8.0  CSC10003    \n",
       "6   18-19/2       4    17_5   7.0  CSC10006    \n",
       "7   18-19/2       4    17_5   6.5  CSC10005    \n",
       "8   18-19/2       4    17_6   6.5  CSC10008    \n",
       "9   19-20/1       4   17_21   5.0  CSC14003    \n",
       "10  19-20/1       4   17_33   8.0  CSC10007    \n",
       "11  19-20/1       4   17_21   5.0  CSC14007    \n",
       "12  19-20/1       4   17_21   7.0  CSC16005    \n",
       "13  19-20/2       4   17_21   8.0  CSC17104    \n",
       "14  19-20/2       4   17_21   8.5  CSC14006    \n",
       "15  19-20/2       4   17_22   7.5  CSC13002    \n",
       "16  19-20/2       4   17_21   5.5  CSC14005    \n",
       "17  20-21/1       4   17_21   9.0  CSC14115    \n",
       "18  20-21/1       4   17_21   5.0  CSC14120    \n",
       "19  20-21/1       4   17_21   8.0  CSC14109    \n",
       "20  20-21/1       4   17_21   8.5  CSC14118    \n",
       "21  20-21/1       4   17_22   8.0  CSC16002    \n",
       "\n",
       "                                               TenMon  \n",
       "0                      Nhập môn Công nghệ Thông tin 1  \n",
       "1                                  Nhập môn lập trình  \n",
       "2                                  Kỹ thuật lập trình  \n",
       "3                                     Nhập môn CNTT 2  \n",
       "4                      Cấu trúc dữ liệu và giải thuật  \n",
       "5               Phương pháp lập trình hướng đối tượng  \n",
       "6                                       Cơ sở dữ liệu  \n",
       "7                       Kiến trúc máy tính và hợp ngữ  \n",
       "8                                       Mạng máy tính  \n",
       "9                              Cơ sở trí tuệ nhân tạo  \n",
       "10                                       Hệ điều hành  \n",
       "11          Nhập môn phân tích độ phức tạp thuật toán  \n",
       "12                           Xử lý ảnh số và video số  \n",
       "13                     Lập trình cho khoa học dữ liệu  \n",
       "14                                          Nhận dạng  \n",
       "15                        Nhập môn công nghệ phần mềm  \n",
       "16                                   Nhập môn học máy  \n",
       "17                          Khoa học dữ liệu ứng dụng  \n",
       "18                                Lập trình song song  \n",
       "19                               Logic mờ và ứng dụng  \n",
       "20                               Nhập môn dữ liệu lớn  \n",
       "21  Phương pháp toán trong phân tích dữ liệu thị giác  "
      ]
     },
     "execution_count": 10,
     "metadata": {},
     "output_type": "execute_result"
    }
   ],
   "source": [
    "LopChuyenNganh = df[df.MaMon.apply(lambda x: 'CSC' in x)]\n",
    "LopChuyenNganh = LopChuyenNganh.reset_index(drop=True)\n",
    "LopChuyenNganh"
   ]
  },
  {
   "cell_type": "code",
   "execution_count": 11,
   "metadata": {},
   "outputs": [
    {
     "data": {
      "text/plain": [
       "(7.203488372093023, 86)"
      ]
     },
     "execution_count": 11,
     "metadata": {},
     "output_type": "execute_result"
    }
   ],
   "source": [
    "TinhDiemTrungBinh(LopChuyenNganh)"
   ]
  }
 ],
 "metadata": {
  "kernelspec": {
   "display_name": "Python 3",
   "language": "python",
   "name": "python3"
  },
  "language_info": {
   "codemirror_mode": {
    "name": "ipython",
    "version": 3
   },
   "file_extension": ".py",
   "mimetype": "text/x-python",
   "name": "python",
   "nbconvert_exporter": "python",
   "pygments_lexer": "ipython3",
   "version": "3.8.5"
  }
 },
 "nbformat": 4,
 "nbformat_minor": 4
}
